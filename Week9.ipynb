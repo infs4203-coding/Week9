{
 "cells": [
  {
   "cell_type": "markdown",
   "id": "3e83abd3",
   "metadata": {},
   "source": [
    "The main purpose of this document is to introduce the association rule mining with the Apriori algorithm, implemented by [mlxtend](https://rasbt.github.io/mlxtend/). We will use the provided grocery dataset as an example."
   ]
  },
  {
   "cell_type": "markdown",
   "id": "f00383c5",
   "metadata": {},
   "source": [
    "# 1. Data preparation"
   ]
  },
  {
   "cell_type": "markdown",
   "id": "12f15e08",
   "metadata": {},
   "source": [
    "We first import the packages that will be used in this document.\n",
    "\n",
    "1. [Pandas](https://pandas.pydata.org/): Pandas is an open-source Python library widely used for data manipulation, analysis, and cleaning tasks. The central data structure in Pandas is the [DataFrame](https://pandas.pydata.org/docs/reference/api/pandas.DataFrame.html) which provides methods to facilitate the preliminary examination of essential properties, statistical summaries, and a select number of rows for a cursory exploration of the data.\n",
    "\n",
    "2. [Numpy](https://numpy.org/): Numpy is a powerful Python library for numerical and array-based computing. It provides support for large, multi-dimensional arrays and matrices, along with a wide range of mathematical functions to operate on these arrays efficiently. \n",
    "\n",
    "3. [mlxtend.preprocessing.TransactionEncoder](https://rasbt.github.io/mlxtend/user_guide/preprocessing/TransactionEncoder/): TransactionEncoder is a class used for encoding transaction data represented in Python lists within the MLxtend library.\n",
    "\n",
    "4. [mlxtend.frequent_patterns.apriori](http://rasbt.github.io/mlxtend/user_guide/frequent_patterns/apriori/): Apriori is an implementation of Apriori algorithm in the MLxtend library to extract frequent itemsets for association rule mining.\n",
    "\n",
    "**Note: To import [mlxtend.preprocessing.TransactionEncoder](https://rasbt.github.io/mlxtend/user_guide/preprocessing/TransactionEncoder/) and [mlxtend.frequent_patterns.apriori](http://rasbt.github.io/mlxtend/user_guide/frequent_patterns/apriori/), you should first install the [mlxtend](https://rasbt.github.io/mlxtend/) library:**\n",
    "\n",
    "Please run **`conda install -c conda-forge mlxtend`** on your *Anaconda command promote*.\n",
    "\n",
    "*OR*\n",
    "\n",
    "Please run **`pip install mlxtend`** on your *terminal*.\n"
   ]
  },
  {
   "cell_type": "code",
   "execution_count": 1,
   "id": "a06002c3",
   "metadata": {},
   "outputs": [],
   "source": [
    "import pandas as pd\n",
    "import numpy as np\n",
    "from mlxtend.preprocessing import TransactionEncoder\n",
    "from mlxtend.frequent_patterns import apriori"
   ]
  },
  {
   "cell_type": "markdown",
   "id": "6ad25902",
   "metadata": {},
   "source": [
    "First, we load the data."
   ]
  },
  {
   "cell_type": "code",
   "execution_count": 2,
   "id": "96690bf8",
   "metadata": {},
   "outputs": [],
   "source": [
    "df = pd.read_csv('groceries.csv')"
   ]
  },
  {
   "cell_type": "markdown",
   "id": "8fc58322",
   "metadata": {},
   "source": [
    "Let's have a look at the first 5 rows of the dataset by [head()](https://pandas.pydata.org/docs/reference/api/pandas.DataFrame.head.html), which show the first 5 transactions."
   ]
  },
  {
   "cell_type": "code",
   "execution_count": 3,
   "id": "ad2145ce",
   "metadata": {},
   "outputs": [
    {
     "data": {
      "text/html": [
       "<div>\n",
       "<style scoped>\n",
       "    .dataframe tbody tr th:only-of-type {\n",
       "        vertical-align: middle;\n",
       "    }\n",
       "\n",
       "    .dataframe tbody tr th {\n",
       "        vertical-align: top;\n",
       "    }\n",
       "\n",
       "    .dataframe thead th {\n",
       "        text-align: right;\n",
       "    }\n",
       "</style>\n",
       "<table border=\"1\" class=\"dataframe\">\n",
       "  <thead>\n",
       "    <tr style=\"text-align: right;\">\n",
       "      <th></th>\n",
       "      <th>item1</th>\n",
       "      <th>item2</th>\n",
       "      <th>item3</th>\n",
       "      <th>item4</th>\n",
       "      <th>item5</th>\n",
       "      <th>item6</th>\n",
       "      <th>item7</th>\n",
       "      <th>item8</th>\n",
       "      <th>item9</th>\n",
       "      <th>item10</th>\n",
       "      <th>...</th>\n",
       "      <th>item21</th>\n",
       "      <th>item22</th>\n",
       "      <th>item23</th>\n",
       "      <th>item24</th>\n",
       "      <th>item25</th>\n",
       "      <th>item26</th>\n",
       "      <th>item27</th>\n",
       "      <th>item28</th>\n",
       "      <th>item29</th>\n",
       "      <th>item30</th>\n",
       "    </tr>\n",
       "  </thead>\n",
       "  <tbody>\n",
       "    <tr>\n",
       "      <th>0</th>\n",
       "      <td>citrus fruit</td>\n",
       "      <td>semi-finished bread</td>\n",
       "      <td>margarine</td>\n",
       "      <td>ready soups</td>\n",
       "      <td>NaN</td>\n",
       "      <td>NaN</td>\n",
       "      <td>NaN</td>\n",
       "      <td>NaN</td>\n",
       "      <td>NaN</td>\n",
       "      <td>NaN</td>\n",
       "      <td>...</td>\n",
       "      <td>NaN</td>\n",
       "      <td>NaN</td>\n",
       "      <td>NaN</td>\n",
       "      <td>NaN</td>\n",
       "      <td>NaN</td>\n",
       "      <td>NaN</td>\n",
       "      <td>NaN</td>\n",
       "      <td>NaN</td>\n",
       "      <td>NaN</td>\n",
       "      <td>NaN</td>\n",
       "    </tr>\n",
       "    <tr>\n",
       "      <th>1</th>\n",
       "      <td>tropical fruit</td>\n",
       "      <td>yogurt</td>\n",
       "      <td>coffee</td>\n",
       "      <td>NaN</td>\n",
       "      <td>NaN</td>\n",
       "      <td>NaN</td>\n",
       "      <td>NaN</td>\n",
       "      <td>NaN</td>\n",
       "      <td>NaN</td>\n",
       "      <td>NaN</td>\n",
       "      <td>...</td>\n",
       "      <td>NaN</td>\n",
       "      <td>NaN</td>\n",
       "      <td>NaN</td>\n",
       "      <td>NaN</td>\n",
       "      <td>NaN</td>\n",
       "      <td>NaN</td>\n",
       "      <td>NaN</td>\n",
       "      <td>NaN</td>\n",
       "      <td>NaN</td>\n",
       "      <td>NaN</td>\n",
       "    </tr>\n",
       "    <tr>\n",
       "      <th>2</th>\n",
       "      <td>whole milk</td>\n",
       "      <td>NaN</td>\n",
       "      <td>NaN</td>\n",
       "      <td>NaN</td>\n",
       "      <td>NaN</td>\n",
       "      <td>NaN</td>\n",
       "      <td>NaN</td>\n",
       "      <td>NaN</td>\n",
       "      <td>NaN</td>\n",
       "      <td>NaN</td>\n",
       "      <td>...</td>\n",
       "      <td>NaN</td>\n",
       "      <td>NaN</td>\n",
       "      <td>NaN</td>\n",
       "      <td>NaN</td>\n",
       "      <td>NaN</td>\n",
       "      <td>NaN</td>\n",
       "      <td>NaN</td>\n",
       "      <td>NaN</td>\n",
       "      <td>NaN</td>\n",
       "      <td>NaN</td>\n",
       "    </tr>\n",
       "    <tr>\n",
       "      <th>3</th>\n",
       "      <td>pip fruit</td>\n",
       "      <td>yogurt</td>\n",
       "      <td>cream cheese</td>\n",
       "      <td>meat spreads</td>\n",
       "      <td>NaN</td>\n",
       "      <td>NaN</td>\n",
       "      <td>NaN</td>\n",
       "      <td>NaN</td>\n",
       "      <td>NaN</td>\n",
       "      <td>NaN</td>\n",
       "      <td>...</td>\n",
       "      <td>NaN</td>\n",
       "      <td>NaN</td>\n",
       "      <td>NaN</td>\n",
       "      <td>NaN</td>\n",
       "      <td>NaN</td>\n",
       "      <td>NaN</td>\n",
       "      <td>NaN</td>\n",
       "      <td>NaN</td>\n",
       "      <td>NaN</td>\n",
       "      <td>NaN</td>\n",
       "    </tr>\n",
       "    <tr>\n",
       "      <th>4</th>\n",
       "      <td>other vegetables</td>\n",
       "      <td>whole milk</td>\n",
       "      <td>condensed milk</td>\n",
       "      <td>long life bakery product</td>\n",
       "      <td>NaN</td>\n",
       "      <td>NaN</td>\n",
       "      <td>NaN</td>\n",
       "      <td>NaN</td>\n",
       "      <td>NaN</td>\n",
       "      <td>NaN</td>\n",
       "      <td>...</td>\n",
       "      <td>NaN</td>\n",
       "      <td>NaN</td>\n",
       "      <td>NaN</td>\n",
       "      <td>NaN</td>\n",
       "      <td>NaN</td>\n",
       "      <td>NaN</td>\n",
       "      <td>NaN</td>\n",
       "      <td>NaN</td>\n",
       "      <td>NaN</td>\n",
       "      <td>NaN</td>\n",
       "    </tr>\n",
       "  </tbody>\n",
       "</table>\n",
       "<p>5 rows × 30 columns</p>\n",
       "</div>"
      ],
      "text/plain": [
       "              item1                item2           item3  \\\n",
       "0      citrus fruit  semi-finished bread       margarine   \n",
       "1    tropical fruit               yogurt          coffee   \n",
       "2        whole milk                  NaN             NaN   \n",
       "3         pip fruit               yogurt    cream cheese   \n",
       "4  other vegetables           whole milk  condensed milk   \n",
       "\n",
       "                      item4 item5 item6 item7 item8 item9 item10  ... item21  \\\n",
       "0               ready soups   NaN   NaN   NaN   NaN   NaN    NaN  ...    NaN   \n",
       "1                       NaN   NaN   NaN   NaN   NaN   NaN    NaN  ...    NaN   \n",
       "2                       NaN   NaN   NaN   NaN   NaN   NaN    NaN  ...    NaN   \n",
       "3              meat spreads   NaN   NaN   NaN   NaN   NaN    NaN  ...    NaN   \n",
       "4  long life bakery product   NaN   NaN   NaN   NaN   NaN    NaN  ...    NaN   \n",
       "\n",
       "  item22 item23 item24 item25 item26 item27 item28 item29 item30  \n",
       "0    NaN    NaN    NaN    NaN    NaN    NaN    NaN    NaN    NaN  \n",
       "1    NaN    NaN    NaN    NaN    NaN    NaN    NaN    NaN    NaN  \n",
       "2    NaN    NaN    NaN    NaN    NaN    NaN    NaN    NaN    NaN  \n",
       "3    NaN    NaN    NaN    NaN    NaN    NaN    NaN    NaN    NaN  \n",
       "4    NaN    NaN    NaN    NaN    NaN    NaN    NaN    NaN    NaN  \n",
       "\n",
       "[5 rows x 30 columns]"
      ]
     },
     "execution_count": 3,
     "metadata": {},
     "output_type": "execute_result"
    }
   ],
   "source": [
    "df.head()"
   ]
  },
  {
   "cell_type": "markdown",
   "id": "bb6616fb",
   "metadata": {},
   "source": [
    "# 2. Data format conversion"
   ]
  },
  {
   "cell_type": "markdown",
   "id": "1f1445df",
   "metadata": {},
   "source": [
    "To apply the apriori algorithm, we need the dataset to be in the format:\n",
    "\n",
    "|     | Type 1 | Type 2 | ...    | Type N |\n",
    "| --- | ------ | ----   | ----   |  ----  |\n",
    "| 0   | True   | False  | ...    | True   |\n",
    "| 1   | False  | True   | ...    | True   |\n",
    "| 2   | True   | True   | ...    | False  |\n",
    "| 3   | True   | True   | ...    | True   |\n",
    "\n",
    "We first make each transaction without `NaN` into a [list](https://docs.python.org/3/tutorial/introduction.html#lists) and put them into a NumPy array."
   ]
  },
  {
   "cell_type": "code",
   "execution_count": 4,
   "id": "1dfc3259",
   "metadata": {},
   "outputs": [],
   "source": [
    "dataset = df.values.tolist()\n",
    "cleanList = []\n",
    "\n",
    "for trans in dataset: # for each transaction\n",
    "    cleanTrans = []\n",
    "    for x in trans: # for each element in the transaction\n",
    "        if str(x) != 'nan': # if the item is not 'nan', put it in the list\n",
    "            cleanTrans.append(x)\n",
    "    cleanList.append(cleanTrans)\n",
    "dataset = np.asarray(cleanList, dtype=object)"
   ]
  },
  {
   "cell_type": "markdown",
   "id": "de1189a7",
   "metadata": {},
   "source": [
    "Take a look at the `dataset`."
   ]
  },
  {
   "cell_type": "code",
   "execution_count": 5,
   "id": "0654fdd5",
   "metadata": {},
   "outputs": [
    {
     "data": {
      "text/plain": [
       "array([list(['citrus fruit', 'semi-finished bread', 'margarine', 'ready soups']),\n",
       "       list(['tropical fruit', 'yogurt', 'coffee']), list(['whole milk']),\n",
       "       ...,\n",
       "       list(['chicken', 'citrus fruit', 'other vegetables', 'butter', 'yogurt', 'frozen dessert', 'domestic eggs', 'rolls/buns', 'rum', 'cling film/bags']),\n",
       "       list(['semi-finished bread', 'bottled water', 'soda', 'bottled beer']),\n",
       "       list(['chicken', 'tropical fruit', 'other vegetables', 'vinegar', 'shopping bags'])],\n",
       "      dtype=object)"
      ]
     },
     "execution_count": 5,
     "metadata": {},
     "output_type": "execute_result"
    }
   ],
   "source": [
    "dataset"
   ]
  },
  {
   "cell_type": "markdown",
   "id": "801eadc3",
   "metadata": {},
   "source": [
    "We then change the list into a mlxtend required format use the function [TransactionEncoder()](https://rasbt.github.io/mlxtend/user_guide/preprocessing/TransactionEncoder/).\n",
    "\n",
    "Using the `TransactionEncoder` object, we can transform this dataset into an array format suitable for typical machine learning APIs. Via the `fit` method, the `TransactionEncoder` learns the unique labels in the dataset, and via the `transform` method, it transforms the input dataset (a Python list of lists) into a one-hot encoded NumPy boolean array:"
   ]
  },
  {
   "cell_type": "code",
   "execution_count": 55,
   "id": "9b56fef4",
   "metadata": {},
   "outputs": [],
   "source": [
    "te = TransactionEncoder()\n",
    "te_ary = te.fit(dataset).transform(dataset) \n",
    "df = pd.DataFrame(te_ary, columns=te.columns_) # fit the transferred data back into a pandas data format"
   ]
  },
  {
   "cell_type": "markdown",
   "id": "8985d3b3",
   "metadata": {},
   "source": [
    "Let's have a look at the first 5 rows of the transformed dataset by [head()](https://pandas.pydata.org/docs/reference/api/pandas.DataFrame.head.html), which show the first 5 transactions."
   ]
  },
  {
   "cell_type": "code",
   "execution_count": 19,
   "id": "4a2b28e7",
   "metadata": {},
   "outputs": [
    {
     "data": {
      "text/html": [
       "<div>\n",
       "<style scoped>\n",
       "    .dataframe tbody tr th:only-of-type {\n",
       "        vertical-align: middle;\n",
       "    }\n",
       "\n",
       "    .dataframe tbody tr th {\n",
       "        vertical-align: top;\n",
       "    }\n",
       "\n",
       "    .dataframe thead th {\n",
       "        text-align: right;\n",
       "    }\n",
       "</style>\n",
       "<table border=\"1\" class=\"dataframe\">\n",
       "  <thead>\n",
       "    <tr style=\"text-align: right;\">\n",
       "      <th></th>\n",
       "      <th>Instant food products</th>\n",
       "      <th>UHT-milk</th>\n",
       "      <th>abrasive cleaner</th>\n",
       "      <th>artif. sweetener</th>\n",
       "      <th>baby cosmetics</th>\n",
       "      <th>baby food</th>\n",
       "      <th>bags</th>\n",
       "      <th>baking powder</th>\n",
       "      <th>bathroom cleaner</th>\n",
       "      <th>beef</th>\n",
       "      <th>...</th>\n",
       "      <th>turkey</th>\n",
       "      <th>vinegar</th>\n",
       "      <th>waffles</th>\n",
       "      <th>whipped/sour cream</th>\n",
       "      <th>whisky</th>\n",
       "      <th>white bread</th>\n",
       "      <th>white wine</th>\n",
       "      <th>whole milk</th>\n",
       "      <th>yogurt</th>\n",
       "      <th>zwieback</th>\n",
       "    </tr>\n",
       "  </thead>\n",
       "  <tbody>\n",
       "    <tr>\n",
       "      <th>0</th>\n",
       "      <td>False</td>\n",
       "      <td>False</td>\n",
       "      <td>False</td>\n",
       "      <td>False</td>\n",
       "      <td>False</td>\n",
       "      <td>False</td>\n",
       "      <td>False</td>\n",
       "      <td>False</td>\n",
       "      <td>False</td>\n",
       "      <td>False</td>\n",
       "      <td>...</td>\n",
       "      <td>False</td>\n",
       "      <td>False</td>\n",
       "      <td>False</td>\n",
       "      <td>False</td>\n",
       "      <td>False</td>\n",
       "      <td>False</td>\n",
       "      <td>False</td>\n",
       "      <td>False</td>\n",
       "      <td>False</td>\n",
       "      <td>False</td>\n",
       "    </tr>\n",
       "    <tr>\n",
       "      <th>1</th>\n",
       "      <td>False</td>\n",
       "      <td>False</td>\n",
       "      <td>False</td>\n",
       "      <td>False</td>\n",
       "      <td>False</td>\n",
       "      <td>False</td>\n",
       "      <td>False</td>\n",
       "      <td>False</td>\n",
       "      <td>False</td>\n",
       "      <td>False</td>\n",
       "      <td>...</td>\n",
       "      <td>False</td>\n",
       "      <td>False</td>\n",
       "      <td>False</td>\n",
       "      <td>False</td>\n",
       "      <td>False</td>\n",
       "      <td>False</td>\n",
       "      <td>False</td>\n",
       "      <td>False</td>\n",
       "      <td>True</td>\n",
       "      <td>False</td>\n",
       "    </tr>\n",
       "    <tr>\n",
       "      <th>2</th>\n",
       "      <td>False</td>\n",
       "      <td>False</td>\n",
       "      <td>False</td>\n",
       "      <td>False</td>\n",
       "      <td>False</td>\n",
       "      <td>False</td>\n",
       "      <td>False</td>\n",
       "      <td>False</td>\n",
       "      <td>False</td>\n",
       "      <td>False</td>\n",
       "      <td>...</td>\n",
       "      <td>False</td>\n",
       "      <td>False</td>\n",
       "      <td>False</td>\n",
       "      <td>False</td>\n",
       "      <td>False</td>\n",
       "      <td>False</td>\n",
       "      <td>False</td>\n",
       "      <td>True</td>\n",
       "      <td>False</td>\n",
       "      <td>False</td>\n",
       "    </tr>\n",
       "    <tr>\n",
       "      <th>3</th>\n",
       "      <td>False</td>\n",
       "      <td>False</td>\n",
       "      <td>False</td>\n",
       "      <td>False</td>\n",
       "      <td>False</td>\n",
       "      <td>False</td>\n",
       "      <td>False</td>\n",
       "      <td>False</td>\n",
       "      <td>False</td>\n",
       "      <td>False</td>\n",
       "      <td>...</td>\n",
       "      <td>False</td>\n",
       "      <td>False</td>\n",
       "      <td>False</td>\n",
       "      <td>False</td>\n",
       "      <td>False</td>\n",
       "      <td>False</td>\n",
       "      <td>False</td>\n",
       "      <td>False</td>\n",
       "      <td>True</td>\n",
       "      <td>False</td>\n",
       "    </tr>\n",
       "    <tr>\n",
       "      <th>4</th>\n",
       "      <td>False</td>\n",
       "      <td>False</td>\n",
       "      <td>False</td>\n",
       "      <td>False</td>\n",
       "      <td>False</td>\n",
       "      <td>False</td>\n",
       "      <td>False</td>\n",
       "      <td>False</td>\n",
       "      <td>False</td>\n",
       "      <td>False</td>\n",
       "      <td>...</td>\n",
       "      <td>False</td>\n",
       "      <td>False</td>\n",
       "      <td>False</td>\n",
       "      <td>False</td>\n",
       "      <td>False</td>\n",
       "      <td>False</td>\n",
       "      <td>False</td>\n",
       "      <td>True</td>\n",
       "      <td>False</td>\n",
       "      <td>False</td>\n",
       "    </tr>\n",
       "  </tbody>\n",
       "</table>\n",
       "<p>5 rows × 169 columns</p>\n",
       "</div>"
      ],
      "text/plain": [
       "   Instant food products  UHT-milk  abrasive cleaner  artif. sweetener  \\\n",
       "0                  False     False             False             False   \n",
       "1                  False     False             False             False   \n",
       "2                  False     False             False             False   \n",
       "3                  False     False             False             False   \n",
       "4                  False     False             False             False   \n",
       "\n",
       "   baby cosmetics  baby food   bags  baking powder  bathroom cleaner   beef  \\\n",
       "0           False      False  False          False             False  False   \n",
       "1           False      False  False          False             False  False   \n",
       "2           False      False  False          False             False  False   \n",
       "3           False      False  False          False             False  False   \n",
       "4           False      False  False          False             False  False   \n",
       "\n",
       "   ...  turkey  vinegar  waffles  whipped/sour cream  whisky  white bread  \\\n",
       "0  ...   False    False    False               False   False        False   \n",
       "1  ...   False    False    False               False   False        False   \n",
       "2  ...   False    False    False               False   False        False   \n",
       "3  ...   False    False    False               False   False        False   \n",
       "4  ...   False    False    False               False   False        False   \n",
       "\n",
       "   white wine  whole milk  yogurt  zwieback  \n",
       "0       False       False   False     False  \n",
       "1       False       False    True     False  \n",
       "2       False        True   False     False  \n",
       "3       False       False    True     False  \n",
       "4       False        True   False     False  \n",
       "\n",
       "[5 rows x 169 columns]"
      ]
     },
     "execution_count": 19,
     "metadata": {},
     "output_type": "execute_result"
    }
   ],
   "source": [
    "df.head()"
   ]
  },
  {
   "cell_type": "markdown",
   "id": "2cde25b9",
   "metadata": {},
   "source": [
    "Since we have the data organized as required, we can apply the apriori algorithm."
   ]
  },
  {
   "cell_type": "markdown",
   "id": "bf90a719",
   "metadata": {},
   "source": [
    "# 3. Association Rule Mining with the Apriori algorithm"
   ]
  },
  {
   "cell_type": "markdown",
   "id": "ca811de7",
   "metadata": {},
   "source": [
    "First we define the `MIN_SUPP` and apply the defined [apriori](http://rasbt.github.io/mlxtend/user_guide/frequent_patterns/apriori/) algorithm."
   ]
  },
  {
   "cell_type": "code",
   "execution_count": 8,
   "id": "23315d2d",
   "metadata": {},
   "outputs": [],
   "source": [
    "MIN_SUPP = 0.02\n",
    "freq_set = apriori(df, min_support=MIN_SUPP,use_colnames=True)"
   ]
  },
  {
   "cell_type": "markdown",
   "id": "7f78ee11",
   "metadata": {},
   "source": [
    "Let's see our result."
   ]
  },
  {
   "cell_type": "code",
   "execution_count": 9,
   "id": "7895b516",
   "metadata": {},
   "outputs": [
    {
     "data": {
      "text/html": [
       "<div>\n",
       "<style scoped>\n",
       "    .dataframe tbody tr th:only-of-type {\n",
       "        vertical-align: middle;\n",
       "    }\n",
       "\n",
       "    .dataframe tbody tr th {\n",
       "        vertical-align: top;\n",
       "    }\n",
       "\n",
       "    .dataframe thead th {\n",
       "        text-align: right;\n",
       "    }\n",
       "</style>\n",
       "<table border=\"1\" class=\"dataframe\">\n",
       "  <thead>\n",
       "    <tr style=\"text-align: right;\">\n",
       "      <th></th>\n",
       "      <th>support</th>\n",
       "      <th>itemsets</th>\n",
       "    </tr>\n",
       "  </thead>\n",
       "  <tbody>\n",
       "    <tr>\n",
       "      <th>0</th>\n",
       "      <td>0.033452</td>\n",
       "      <td>(UHT-milk)</td>\n",
       "    </tr>\n",
       "    <tr>\n",
       "      <th>1</th>\n",
       "      <td>0.052466</td>\n",
       "      <td>(beef)</td>\n",
       "    </tr>\n",
       "    <tr>\n",
       "      <th>2</th>\n",
       "      <td>0.033249</td>\n",
       "      <td>(berries)</td>\n",
       "    </tr>\n",
       "    <tr>\n",
       "      <th>3</th>\n",
       "      <td>0.026029</td>\n",
       "      <td>(beverages)</td>\n",
       "    </tr>\n",
       "    <tr>\n",
       "      <th>4</th>\n",
       "      <td>0.080529</td>\n",
       "      <td>(bottled beer)</td>\n",
       "    </tr>\n",
       "    <tr>\n",
       "      <th>...</th>\n",
       "      <td>...</td>\n",
       "      <td>...</td>\n",
       "    </tr>\n",
       "    <tr>\n",
       "      <th>117</th>\n",
       "      <td>0.032232</td>\n",
       "      <td>(whole milk, whipped/sour cream)</td>\n",
       "    </tr>\n",
       "    <tr>\n",
       "      <th>118</th>\n",
       "      <td>0.020742</td>\n",
       "      <td>(yogurt, whipped/sour cream)</td>\n",
       "    </tr>\n",
       "    <tr>\n",
       "      <th>119</th>\n",
       "      <td>0.056024</td>\n",
       "      <td>(whole milk, yogurt)</td>\n",
       "    </tr>\n",
       "    <tr>\n",
       "      <th>120</th>\n",
       "      <td>0.023183</td>\n",
       "      <td>(whole milk, root vegetables, other vegetables)</td>\n",
       "    </tr>\n",
       "    <tr>\n",
       "      <th>121</th>\n",
       "      <td>0.022267</td>\n",
       "      <td>(whole milk, yogurt, other vegetables)</td>\n",
       "    </tr>\n",
       "  </tbody>\n",
       "</table>\n",
       "<p>122 rows × 2 columns</p>\n",
       "</div>"
      ],
      "text/plain": [
       "      support                                         itemsets\n",
       "0    0.033452                                       (UHT-milk)\n",
       "1    0.052466                                           (beef)\n",
       "2    0.033249                                        (berries)\n",
       "3    0.026029                                      (beverages)\n",
       "4    0.080529                                   (bottled beer)\n",
       "..        ...                                              ...\n",
       "117  0.032232                 (whole milk, whipped/sour cream)\n",
       "118  0.020742                     (yogurt, whipped/sour cream)\n",
       "119  0.056024                             (whole milk, yogurt)\n",
       "120  0.023183  (whole milk, root vegetables, other vegetables)\n",
       "121  0.022267           (whole milk, yogurt, other vegetables)\n",
       "\n",
       "[122 rows x 2 columns]"
      ]
     },
     "execution_count": 9,
     "metadata": {},
     "output_type": "execute_result"
    }
   ],
   "source": [
    "freq_set"
   ]
  },
  {
   "cell_type": "markdown",
   "id": "bd5ec64b",
   "metadata": {},
   "source": [
    "We can see that we have 122 frequent itemsets, sorted by their support."
   ]
  },
  {
   "cell_type": "markdown",
   "id": "040f57e8",
   "metadata": {},
   "source": [
    "## 3.1 Check the i-th frequent itemset"
   ]
  },
  {
   "cell_type": "markdown",
   "id": "8cb9f910",
   "metadata": {},
   "source": [
    "Check the frequent itemset at location 10 with [loc()](https://pandas.pydata.org/docs/reference/api/pandas.DataFrame.loc.html), and have a try on others by yourselves."
   ]
  },
  {
   "cell_type": "code",
   "execution_count": 44,
   "id": "2743d00e",
   "metadata": {},
   "outputs": [
    {
     "data": {
      "text/html": [
       "<div>\n",
       "<style scoped>\n",
       "    .dataframe tbody tr th:only-of-type {\n",
       "        vertical-align: middle;\n",
       "    }\n",
       "\n",
       "    .dataframe tbody tr th {\n",
       "        vertical-align: top;\n",
       "    }\n",
       "\n",
       "    .dataframe thead th {\n",
       "        text-align: right;\n",
       "    }\n",
       "</style>\n",
       "<table border=\"1\" class=\"dataframe\">\n",
       "  <thead>\n",
       "    <tr style=\"text-align: right;\">\n",
       "      <th></th>\n",
       "      <th>support</th>\n",
       "      <th>itemsets</th>\n",
       "    </tr>\n",
       "  </thead>\n",
       "  <tbody>\n",
       "    <tr>\n",
       "      <th>10</th>\n",
       "      <td>0.077682</td>\n",
       "      <td>(canned beer)</td>\n",
       "    </tr>\n",
       "  </tbody>\n",
       "</table>\n",
       "</div>"
      ],
      "text/plain": [
       "     support       itemsets\n",
       "10  0.077682  (canned beer)"
      ]
     },
     "execution_count": 44,
     "metadata": {},
     "output_type": "execute_result"
    }
   ],
   "source": [
    "freq_set.loc[[10]]"
   ]
  },
  {
   "cell_type": "markdown",
   "id": "470b4e35",
   "metadata": {},
   "source": [
    "## 3.2 Check whether an itemset is frequent"
   ]
  },
  {
   "cell_type": "markdown",
   "id": "6be5e1be",
   "metadata": {},
   "source": [
    "If it is frequent, provide the location of the itemset in **freq_set**; otherwise provide \"Not frequent\". "
   ]
  },
  {
   "cell_type": "markdown",
   "id": "d24b12fb",
   "metadata": {},
   "source": [
    "**Check whether 'beef' is frequent:**"
   ]
  },
  {
   "cell_type": "markdown",
   "id": "770f9511",
   "metadata": {},
   "source": [
    "First, we specify the itemset we want to check."
   ]
  },
  {
   "cell_type": "code",
   "execution_count": 52,
   "id": "d3dd68d9",
   "metadata": {},
   "outputs": [],
   "source": [
    "check_set = ['beef']"
   ]
  },
  {
   "cell_type": "markdown",
   "id": "1ff9b565",
   "metadata": {},
   "source": [
    "Select the index from the frequent set based on the given `check_set` by [index](https://pandas.pydata.org/docs/reference/api/pandas.DataFrame.index.html), which returns the index labels in the format of [pandas.Index](https://pandas.pydata.org/docs/reference/api/pandas.Index.html). By [tolist()](https://pandas.pydata.org/docs/reference/api/pandas.Series.tolist.html), we can get the index number easier."
   ]
  },
  {
   "cell_type": "code",
   "execution_count": 53,
   "id": "137d6869",
   "metadata": {},
   "outputs": [],
   "source": [
    "itemset_idx = freq_set.index[freq_set['itemsets'] == frozenset(check_set)].tolist()"
   ]
  },
  {
   "cell_type": "markdown",
   "id": "eb7c102d",
   "metadata": {},
   "source": [
    "Try to find the itemset with the index in the frequent set, and print \"Not frequent\" if does not exist; otherwise, give the position."
   ]
  },
  {
   "cell_type": "code",
   "execution_count": 51,
   "id": "1c38d6f5",
   "metadata": {},
   "outputs": [
    {
     "name": "stdout",
     "output_type": "stream",
     "text": [
      "Found at location 1\n"
     ]
    }
   ],
   "source": [
    "if itemset_idx==[]: # given check_set does not exist in the frequent set\n",
    "    print('Not frequent!')\n",
    "else:\n",
    "    print('Found at location ' + str(itemset_idx[0]))"
   ]
  },
  {
   "cell_type": "markdown",
   "id": "0dc4e076",
   "metadata": {},
   "source": [
    "**Check whether 'whole milk, yogurt' is frequent:**"
   ]
  },
  {
   "cell_type": "code",
   "execution_count": 54,
   "id": "26f9bb5a",
   "metadata": {},
   "outputs": [
    {
     "name": "stdout",
     "output_type": "stream",
     "text": [
      "Found at location 119\n"
     ]
    }
   ],
   "source": [
    "# specify the itemset you want to check\n",
    "check_set = ['yogurt','whole milk']\n",
    "\n",
    "# Select the idx from the frequent set based on the given check_set\n",
    "itemset_idx = freq_set.index[freq_set['itemsets'] == frozenset(check_set)].tolist()\n",
    "\n",
    "if itemset_idx==[]: # given check_set does not exist in the frequent set\n",
    "    print('Not frequent!')\n",
    "else:\n",
    "    print('Found at location ' + str(itemset_idx[0]))"
   ]
  },
  {
   "cell_type": "markdown",
   "id": "75642111",
   "metadata": {},
   "source": [
    "**Check whether 'university, queensland' is frequent:**"
   ]
  },
  {
   "cell_type": "markdown",
   "id": "66d39839",
   "metadata": {},
   "source": [
    "Obviously, 'university, queensland' should not exist in the frequent set. Let's have a check on the printout."
   ]
  },
  {
   "cell_type": "code",
   "execution_count": 56,
   "id": "374f5700",
   "metadata": {},
   "outputs": [
    {
     "name": "stdout",
     "output_type": "stream",
     "text": [
      "Not frequent!\n"
     ]
    }
   ],
   "source": [
    "# specify the itemset you want to check\n",
    "check_set = ['university','queensland']\n",
    "\n",
    "# Select the idx from the frequent set based on the given check_set\n",
    "itemset_idx = freq_set.index[freq_set['itemsets'] == frozenset(check_set)].tolist()\n",
    "\n",
    "if itemset_idx==[]:\n",
    "    print('Not frequent!') # given check_set does not exist in the frequent set\n",
    "else:\n",
    "    print('Found at location ' + str(itemset_idx[0]))"
   ]
  },
  {
   "cell_type": "markdown",
   "id": "1d7faec1",
   "metadata": {},
   "source": [
    "## 3.3 Calculation of the confidence"
   ]
  },
  {
   "cell_type": "markdown",
   "id": "c7d10933",
   "metadata": {},
   "source": [
    "First, we define a function `get_itemset_support`, returning the support of the given itemset X or returning None if the itemset X does not exist."
   ]
  },
  {
   "cell_type": "code",
   "execution_count": null,
   "id": "0a5296b0",
   "metadata": {},
   "outputs": [],
   "source": [
    "def get_itemset_support(freq_set, X):\n",
    "    # Select the idx from the frequent set based on the given check_set\n",
    "    itemset_idx = freq_set.index[freq_set['itemsets'] == frozenset(X)].tolist()\n",
    "    \n",
    "    if itemset_idx==[]:\n",
    "        return None # Request itemset X does not exist in the frequent itemset\n",
    "    else:\n",
    "        return freq_set.loc[itemset_idx[0],['support']] # Return the corresponding support"
   ]
  },
  {
   "cell_type": "markdown",
   "id": "9ebdbac5",
   "metadata": {},
   "source": [
    "Then we define a function `get_rule_confidence`, returning the confidence of the corresponding rule \\{X\\} $\\rightarrow$ \\{Y\\} or returning information if any of the related support is None."
   ]
  },
  {
   "cell_type": "code",
   "execution_count": 60,
   "id": "4e6f9593",
   "metadata": {},
   "outputs": [],
   "source": [
    "def get_rule_confidence(freq_set, X, Y):\n",
    "   \n",
    "    itemset = X + Y # join itemset X and itemset Y \n",
    "    x_support = get_itemset_support(freq_set, X) # get support of X \n",
    "    joint_support = get_itemset_support(freq_set, itemset) # get support of X joint Y\n",
    "    \n",
    "    if joint_support is None or x_support is None: \n",
    "        return \"Make sure the X, Y and X+Y are in the frequent list.\"\n",
    "        \n",
    "    return \"The confidence of rule {%s} -> {%s} is: %3f\"%(X, Y, joint_support/x_support)"
   ]
  },
  {
   "cell_type": "markdown",
   "id": "c4b07c15",
   "metadata": {},
   "source": [
    "Let's calculate the confidence of the rule  \\{X\\} $\\rightarrow$ \\{Y\\}."
   ]
  },
  {
   "cell_type": "code",
   "execution_count": 61,
   "id": "2f5ca88b",
   "metadata": {},
   "outputs": [
    {
     "data": {
      "text/plain": [
       "\"The confidence of rule {['yogurt', 'whole milk']} -> {['other vegetables']} is: 0.397459\""
      ]
     },
     "execution_count": 61,
     "metadata": {},
     "output_type": "execute_result"
    }
   ],
   "source": [
    "# Specify the content of X and Y\n",
    "X = ['yogurt', 'whole milk']\n",
    "Y = ['other vegetables']\n",
    "\n",
    "# Get the confidence\n",
    "get_rule_confidence(freq_set, X, Y)"
   ]
  },
  {
   "cell_type": "code",
   "execution_count": 16,
   "id": "5d6c6bef",
   "metadata": {},
   "outputs": [
    {
     "data": {
      "text/plain": [
       "'Make sure the X, Y and X+Y are in the frequent list.'"
      ]
     },
     "execution_count": 16,
     "metadata": {},
     "output_type": "execute_result"
    }
   ],
   "source": [
    "# Specify the content of X and Y\n",
    "X = ['queensland']\n",
    "Y = ['university']\n",
    "\n",
    "# Get the confidence\n",
    "get_rule_confidence(freq_set, X, Y)"
   ]
  },
  {
   "cell_type": "markdown",
   "id": "d299696d",
   "metadata": {},
   "source": [
    "Author: *Kaki Zhou* 12/9/2024 "
   ]
  }
 ],
 "metadata": {
  "authors": [
   {
    "name": "Kaki Zhou"
   }
  ],
  "kernelspec": {
   "display_name": "Python 3 (ipykernel)",
   "language": "python",
   "name": "python3"
  },
  "language_info": {
   "codemirror_mode": {
    "name": "ipython",
    "version": 3
   },
   "file_extension": ".py",
   "mimetype": "text/x-python",
   "name": "python",
   "nbconvert_exporter": "python",
   "pygments_lexer": "ipython3",
   "version": "3.9.6"
  }
 },
 "nbformat": 4,
 "nbformat_minor": 5
}
